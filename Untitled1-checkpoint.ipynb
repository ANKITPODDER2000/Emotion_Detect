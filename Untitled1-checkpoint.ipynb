{
 "cells": [
  {
   "cell_type": "code",
   "execution_count": 18,
   "metadata": {},
   "outputs": [
    {
     "name": "stdout",
     "output_type": "stream",
     "text": [
      "1\n",
      "4\n",
      "5\n",
      "6\n",
      "9\n",
      "10\n",
      "11\n",
      "12\n",
      "UyDrmqHpur\n"
     ]
    }
   ],
   "source": [
    "#!/bin/python3\n",
    "\n",
    "import math\n",
    "import os\n",
    "import random\n",
    "import re\n",
    "import sys\n",
    "\n",
    "\n",
    "#\n",
    "# Complete the 'decryptPassword' function below.\n",
    "#\n",
    "# The function is expected to return a STRING.\n",
    "# The function accepts STRING s as parameter.\n",
    "#\n",
    "\n",
    "def decryptPassword(s):\n",
    "    s = list(s)\n",
    "    i = 0\n",
    "    ans = \"\"\n",
    "    count = 0\n",
    "    for i i range(len(s)-1,-1):\n",
    "        if count>=i:\n",
    "            break\n",
    "        if s[i]=='0':\n",
    "            s[i] = s[count]\n",
    "            s[count] = '$'\n",
    "            count += 1\n",
    "        \n",
    "            \n",
    "    while i<len(s):\n",
    "        if i+1 < len(s) and (s[i]>='A' and s[i]<='Z') and (s[i+1]>=\"a\" and s[i+1]<='z'):\n",
    "            ans = ans + s[i+1] + s[i]\n",
    "            i = i + 3\n",
    "        #elif start_of_password and s[i]>='0' and s[i]<='9':\n",
    "            #ans = ans + s[count-1]\n",
    "           # count -=1\n",
    "           # i+=1\n",
    "        #elif (s[i]>='a' and s[i]<='z') or (s[i]>='A' and s[i]<='Z'):\n",
    "            #start_of_password = True\n",
    "           # ans += s[i]\n",
    "           # i+=1\n",
    "       # elif start_of_password==False and s[i]>='0' and s[i]<='9':\n",
    "            #count +=1\n",
    "            #i+=1\n",
    "        elif s[i] !='$':\n",
    "            ans += s[i]\n",
    "            i+=1\n",
    "        else:\n",
    "            i+=1\n",
    "    return ans\n",
    "\n",
    "if __name__ == '__main__':\n",
    "    result = decryptPassword(\"UDyT6mHqBpur\")\n",
    "    print(result)"
   ]
  },
  {
   "cell_type": "code",
   "execution_count": 12,
   "metadata": {},
   "outputs": [
    {
     "data": {
      "text/plain": [
       "11"
      ]
     },
     "execution_count": 12,
     "metadata": {},
     "output_type": "execute_result"
    }
   ],
   "source": [
    "len(\"51Pa*0Lp*0e\")"
   ]
  },
  {
   "cell_type": "code",
   "execution_count": null,
   "metadata": {},
   "outputs": [],
   "source": []
  }
 ],
 "metadata": {
  "kernelspec": {
   "display_name": "Python 3",
   "language": "python",
   "name": "python3"
  },
  "language_info": {
   "codemirror_mode": {
    "name": "ipython",
    "version": 3
   },
   "file_extension": ".py",
   "mimetype": "text/x-python",
   "name": "python",
   "nbconvert_exporter": "python",
   "pygments_lexer": "ipython3",
   "version": "3.7.3"
  }
 },
 "nbformat": 4,
 "nbformat_minor": 2
}
