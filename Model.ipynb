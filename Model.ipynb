{
 "cells": [
  {
   "cell_type": "code",
   "execution_count": 1,
   "metadata": {},
   "outputs": [],
   "source": [
    "import cv2\n",
    "import os\n",
    "import matplotlib.pyplot as plt\n",
    "%matplotlib inline"
   ]
  },
  {
   "cell_type": "code",
   "execution_count": 4,
   "metadata": {},
   "outputs": [],
   "source": [
    "import tensorflow as tf\n",
    "from tensorflow.keras.preprocessing.image import ImageDataGenerator"
   ]
  },
  {
   "cell_type": "code",
   "execution_count": 5,
   "metadata": {},
   "outputs": [],
   "source": [
    "train = \"./train/\"\n",
    "validation = \"./validation/\""
   ]
  },
  {
   "cell_type": "code",
   "execution_count": 7,
   "metadata": {},
   "outputs": [
    {
     "name": "stdout",
     "output_type": "stream",
     "text": [
      "Details of Train Data : \n",
      "Total img in Angry dir is : 3995\n",
      "Total img in Disgust dir is : 436\n",
      "Total img in Fear dir is : 4097\n",
      "Total img in Happy dir is : 7215\n",
      "Total img in Neutral dir is : 4965\n",
      "Total img in Sad dir is : 4830\n",
      "Total img in Surprise dir is : 3171\n"
     ]
    }
   ],
   "source": [
    "print(\"Details of Train Data : \")\n",
    "for i in os.listdir(train):\n",
    "    print(\"Total img in %s dir is : %d\"%(i,len(os.listdir(train+i+\"/\"))))"
   ]
  },
  {
   "cell_type": "code",
   "execution_count": 8,
   "metadata": {},
   "outputs": [
    {
     "name": "stdout",
     "output_type": "stream",
     "text": [
      "Details of Validation Data : \n",
      "Total img in Angry dir is : 491\n",
      "Total img in Disgust dir is : 55\n",
      "Total img in Fear dir is : 528\n",
      "Total img in Happy dir is : 879\n",
      "Total img in Neutral dir is : 626\n",
      "Total img in Sad dir is : 594\n",
      "Total img in Surprise dir is : 416\n"
     ]
    }
   ],
   "source": [
    "print(\"Details of Validation Data : \")\n",
    "for i in os.listdir(validation):\n",
    "    print(\"Total img in %s dir is : %d\"%(i,len(os.listdir(validation+i+\"/\"))))"
   ]
  },
  {
   "cell_type": "code",
   "execution_count": 9,
   "metadata": {},
   "outputs": [],
   "source": [
    "train_dir = {}\n",
    "for i in os.listdir(train):\n",
    "    train_dir[i] = train + i + \"/\""
   ]
  },
  {
   "cell_type": "code",
   "execution_count": 16,
   "metadata": {},
   "outputs": [
    {
     "name": "stdout",
     "output_type": "stream",
     "text": [
      "(48, 48, 3)\n"
     ]
    },
    {
     "data": {
      "image/png": "[encoded data removed]",
      "text/plain": [
       "<Figure size 432x288 with 1 Axes>"
      ]
     },
     "metadata": {
      "needs_background": "light"
     },
     "output_type": "display_data"
    },
    {
     "name": "stdout",
     "output_type": "stream",
     "text": [
      "(48, 48, 3)\n"
     ]
    },
    {
     "data": {
      "image/png": "[encoded data removed]",
      "text/plain": [
       "<Figure size 432x288 with 1 Axes>"
      ]
     },
     "metadata": {
      "needs_background": "light"
     },
     "output_type": "display_data"
    },
    {
     "name": "stdout",
     "output_type": "stream",
     "text": [
      "(48, 48, 3)\n"
     ]
    },
    {
     "data": {
      "image/png": "[encoded data removed]",
      "text/plain": [
       "<Figure size 432x288 with 1 Axes>"
      ]
     },
     "metadata": {
      "needs_background": "light"
     },
     "output_type": "display_data"
    }
   ],
   "source": [
    "for i in os.listdir(train_dir['Happy'])[:3]:\n",
    "    img = cv2.imread(train_dir['Happy']+i)\n",
    "    print(img.shape)\n",
    "    plt.imshow(img)\n",
    "    plt.show()"
   ]
  },
  {
   "cell_type": "code",
   "execution_count": 90,
   "metadata": {},
   "outputs": [],
   "source": [
    "train_datagen = ImageDataGenerator(rescale=1.0/255.0 ,\n",
    "                                   rotation_range=10,\n",
    "                                   zoom_range=0.3,\n",
    "                                   shear_range=0.3,\n",
    "                                   horizontal_flip=True,\n",
    "                                   width_shift_range=0.4,\n",
    "                                   height_shift_range=0.4,fill_mode='nearest')\n",
    "validation_datagen = ImageDataGenerator(rescale=1.0/255.0)"
   ]
  },
  {
   "cell_type": "code",
   "execution_count": 91,
   "metadata": {},
   "outputs": [
    {
     "name": "stdout",
     "output_type": "stream",
     "text": [
      "Found 28709 images belonging to 7 classes.\n",
      "Found 3589 images belonging to 7 classes.\n"
     ]
    }
   ],
   "source": [
    "train_data = train_datagen.flow_from_directory(train,target_size=(50,50),class_mode='categorical',batch_size=32,color_mode='grayscale')\n",
    "validation_data = validation_datagen.flow_from_directory(validation,target_size=(50,50),class_mode='categorical',batch_size=32,color_mode='grayscale')"
   ]
  },
  {
   "cell_type": "code",
   "execution_count": 92,
   "metadata": {},
   "outputs": [],
   "source": [
    "model1 = tf.keras.models.Sequential([\n",
    "    tf.keras.layers.Conv2D(32,(3,3),activation='elu',padding=\"same\",kernel_initializer='he_normal',input_shape=(48,48,1)),\n",
    "    tf.keras.layers.BatchNormalization(),\n",
    "    tf.keras.layers.Conv2D(32,(3,3),activation='elu',padding=\"same\",kernel_initializer='he_normal'),\n",
    "    tf.keras.layers.BatchNormalization(),\n",
    "    tf.keras.layers.MaxPool2D((2,2)),\n",
    "    tf.keras.layers.Dropout(0.2),\n",
    "    \n",
    "    tf.keras.layers.Conv2D(64,(3,3),activation='elu',padding=\"same\",kernel_initializer='he_normal'),\n",
    "    tf.keras.layers.BatchNormalization(),\n",
    "    tf.keras.layers.Conv2D(64,(3,3),activation='elu',padding=\"same\",kernel_initializer='he_normal'),\n",
    "    tf.keras.layers.BatchNormalization(),\n",
    "    tf.keras.layers.MaxPool2D((2,2)),\n",
    "    tf.keras.layers.Dropout(0.2),\n",
    "    \n",
    "    tf.keras.layers.Conv2D(128,(3,3),activation='elu',padding=\"same\",kernel_initializer='he_normal'),\n",
    "    tf.keras.layers.BatchNormalization(),\n",
    "    tf.keras.layers.Conv2D(128,(3,3),activation='elu',padding=\"same\",kernel_initializer='he_normal'),\n",
    "    tf.keras.layers.BatchNormalization(),\n",
    "    tf.keras.layers.MaxPool2D((2,2)),\n",
    "    tf.keras.layers.Dropout(0.2),\n",
    "    \n",
    "    tf.keras.layers.Conv2D(256,(3,3),activation='elu',padding=\"same\",kernel_initializer='he_normal'),\n",
    "    tf.keras.layers.BatchNormalization(),\n",
    "    tf.keras.layers.Conv2D(256,(3,3),activation='elu',padding=\"same\",kernel_initializer='he_normal'),\n",
    "    tf.keras.layers.BatchNormalization(),\n",
    "    tf.keras.layers.MaxPool2D((2,2)),\n",
    "    tf.keras.layers.Dropout(0.2),\n",
    "    \n",
    "    tf.keras.layers.Flatten(),\n",
    "    tf.keras.layers.Dense(64,activation='elu',kernel_initializer='he_normal'),\n",
    "    tf.keras.layers.BatchNormalization(),\n",
    "    tf.keras.layers.Dropout(0.5),\n",
    "    \n",
    "    tf.keras.layers.Dense(64,activation='elu',kernel_initializer='he_normal'),\n",
    "    tf.keras.layers.BatchNormalization(),\n",
    "    tf.keras.layers.Dropout(0.5),\n",
    "    \n",
    "    tf.keras.layers.Dense(7,activation='softmax',kernel_initializer='he_normal')\n",
    "])"
   ]
  },
  {
   "cell_type": "code",
   "execution_count": 93,
   "metadata": {},
   "outputs": [],
   "source": [
    "#model1.summary()"
   ]
  },
  {
   "cell_type": "code",
   "execution_count": 94,
   "metadata": {},
   "outputs": [],
   "source": [
    "from tensorflow.keras.callbacks import ModelCheckpoint,EarlyStopping,ReduceLROnPlateau"
   ]
  },
  {
   "cell_type": "code",
   "execution_count": 95,
   "metadata": {},
   "outputs": [],
   "source": [
    "checkpoint = ModelCheckpoint(\"Emotion.h5\",\n",
    "                            monitor='val_loss',\n",
    "                            mode='min',\n",
    "                            save_best_only=True,\n",
    "                            verbose=1)\n",
    "\n",
    "earlystop = EarlyStopping(monitor='val_loss',\n",
    "                         min_delta=0,\n",
    "                         patience=9,\n",
    "                         verbose=2,\n",
    "                         restore_best_weights=True)\n",
    "\n",
    "reduce_lr = ReduceLROnPlateau(monitor='val_loss',\n",
    "                             factor=0.2,\n",
    "                             patience=3,\n",
    "                             verbose=1,\n",
    "                             min_delta=0.0001)\n",
    "callbacks = [earlystop,checkpoint,reduce_lr]"
   ]
  },
  {
   "cell_type": "code",
   "execution_count": 96,
   "metadata": {},
   "outputs": [],
   "source": [
    "model1.compile(optimizer=tf.keras.optimizers.Adam(lr=0.001),loss=tf.keras.losses.categorical_crossentropy,metrics=['acc'])"
   ]
  },
  {
   "cell_type": "code",
   "execution_count": 97,
   "metadata": {
    "scrolled": true
   },
   "outputs": [
    {
     "name": "stdout",
     "output_type": "stream",
     "text": [
      "WARNING:tensorflow:sample_weight modes were coerced from\n",
      "  ...\n",
      "    to  \n",
      "  ['...']\n",
      "WARNING:tensorflow:sample_weight modes were coerced from\n",
      "  ...\n",
      "    to  \n",
      "  ['...']\n",
      "Train for 897 steps, validate for 112 steps\n",
      "Epoch 1/25\n",
      "896/897 [============================>.] - ETA: 1s - loss: 2.1377 - acc: 0.1955\n",
      "Epoch 00001: val_loss improved from inf to 1.80420, saving model to Emotion.h5\n",
      "897/897 [==============================] - 1392s 2s/step - loss: 2.1373 - acc: 0.1954 - val_loss: 1.8042 - val_acc: 0.2500\n",
      "Epoch 2/25\n",
      "896/897 [============================>.] - ETA: 1s - loss: 1.8135 - acc: 0.2412\n",
      "Epoch 00002: val_loss improved from 1.80420 to 1.76896, saving model to Emotion.h5\n",
      "897/897 [==============================] - 1434s 2s/step - loss: 1.8136 - acc: 0.2412 - val_loss: 1.7690 - val_acc: 0.2586\n",
      "Epoch 3/25\n",
      "896/897 [============================>.] - ETA: 1s - loss: 1.7761 - acc: 0.2660\n",
      "Epoch 00003: val_loss did not improve from 1.76896\n",
      "897/897 [==============================] - 1522s 2s/step - loss: 1.7760 - acc: 0.2660 - val_loss: 1.9410 - val_acc: 0.2383\n",
      "Epoch 4/25\n",
      "896/897 [============================>.] - ETA: 1s - loss: 1.7160 - acc: 0.2976\n",
      "Epoch 00004: val_loss improved from 1.76896 to 1.66801, saving model to Emotion.h5\n",
      "897/897 [==============================] - 1887s 2s/step - loss: 1.7159 - acc: 0.2977 - val_loss: 1.6680 - val_acc: 0.3504\n",
      "Epoch 5/25\n",
      "896/897 [============================>.] - ETA: 2s - loss: 1.6271 - acc: 0.3547\n",
      "Epoch 00005: val_loss improved from 1.66801 to 1.58354, saving model to Emotion.h5\n",
      "897/897 [==============================] - 1957s 2s/step - loss: 1.6271 - acc: 0.3546 - val_loss: 1.5835 - val_acc: 0.4012\n",
      "Epoch 6/25\n",
      "896/897 [============================>.] - ETA: 1s - loss: 1.5336 - acc: 0.4044\n",
      "Epoch 00006: val_loss improved from 1.58354 to 1.50383, saving model to Emotion.h5\n",
      "897/897 [==============================] - 1694s 2s/step - loss: 1.5338 - acc: 0.4043 - val_loss: 1.5038 - val_acc: 0.4400\n",
      "Epoch 7/25\n",
      "896/897 [============================>.] - ETA: 1s - loss: 1.4690 - acc: 0.4325\n",
      "Epoch 00007: val_loss improved from 1.50383 to 1.49750, saving model to Emotion.h5\n",
      "897/897 [==============================] - 1403s 2s/step - loss: 1.4688 - acc: 0.4326 - val_loss: 1.4975 - val_acc: 0.4615\n",
      "Epoch 8/25\n",
      "896/897 [============================>.] - ETA: 0s - loss: 1.4321 - acc: 0.4554\n",
      "Epoch 00008: val_loss did not improve from 1.49750\n",
      "897/897 [==============================] - 810s 903ms/step - loss: 1.4321 - acc: 0.4553 - val_loss: 1.5014 - val_acc: 0.4665\n",
      "Epoch 9/25\n",
      "896/897 [============================>.] - ETA: 0s - loss: 1.4006 - acc: 0.4691\n",
      "Epoch 00009: val_loss improved from 1.49750 to 1.49168, saving model to Emotion.h5\n",
      "897/897 [==============================] - 812s 905ms/step - loss: 1.4005 - acc: 0.4692 - val_loss: 1.4917 - val_acc: 0.4693\n",
      "Epoch 10/25\n",
      "896/897 [============================>.] - ETA: 34s - loss: 1.3825 - acc: 0.4755 \n",
      "Epoch 00010: val_loss improved from 1.49168 to 1.48935, saving model to Emotion.h5\n",
      "897/897 [==============================] - 31155s 35s/step - loss: 1.3824 - acc: 0.4755 - val_loss: 1.4894 - val_acc: 0.4841\n",
      "Epoch 11/25\n",
      "896/897 [============================>.] - ETA: 1s - loss: 1.3632 - acc: 0.4874\n",
      "Epoch 00011: val_loss improved from 1.48935 to 1.43020, saving model to Emotion.h5\n",
      "897/897 [==============================] - 970s 1s/step - loss: 1.3632 - acc: 0.4874 - val_loss: 1.4302 - val_acc: 0.4883\n",
      "Epoch 12/25\n",
      "896/897 [============================>.] - ETA: 0s - loss: 1.3382 - acc: 0.4979\n",
      "Epoch 00012: val_loss did not improve from 1.43020\n",
      "897/897 [==============================] - 783s 873ms/step - loss: 1.3382 - acc: 0.4978 - val_loss: 1.4555 - val_acc: 0.4760\n",
      "Epoch 13/25\n",
      "896/897 [============================>.] - ETA: 12s - loss: 1.3235 - acc: 0.5000\n",
      "Epoch 00013: val_loss did not improve from 1.43020\n",
      "897/897 [==============================] - 11369s 13s/step - loss: 1.3234 - acc: 0.5002 - val_loss: 1.4342 - val_acc: 0.5092\n",
      "Epoch 14/25\n",
      "896/897 [============================>.] - ETA: 1s - loss: 1.3048 - acc: 0.5128\n",
      "Epoch 00014: val_loss improved from 1.43020 to 1.40540, saving model to Emotion.h5\n",
      "897/897 [==============================] - 998s 1s/step - loss: 1.3047 - acc: 0.5127 - val_loss: 1.4054 - val_acc: 0.4992\n",
      "Epoch 15/25\n",
      "896/897 [============================>.] - ETA: 1s - loss: 1.2928 - acc: 0.5185\n",
      "Epoch 00015: val_loss did not improve from 1.40540\n",
      "897/897 [==============================] - 1265s 1s/step - loss: 1.2929 - acc: 0.5185 - val_loss: 1.4087 - val_acc: 0.5123\n",
      "Epoch 16/25\n",
      "896/897 [============================>.] - ETA: 1s - loss: 1.2806 - acc: 0.5221\n",
      "Epoch 00016: val_loss did not improve from 1.40540\n",
      "897/897 [==============================] - 1050s 1s/step - loss: 1.2807 - acc: 0.5221 - val_loss: 1.4167 - val_acc: 0.5064\n",
      "Epoch 17/25\n",
      "896/897 [============================>.] - ETA: 1s - loss: 1.2722 - acc: 0.5233\n",
      "Epoch 00017: val_loss did not improve from 1.40540\n",
      "\n",
      "Epoch 00017: ReduceLROnPlateau reducing learning rate to 0.00020000000949949026.\n",
      "897/897 [==============================] - 1230s 1s/step - loss: 1.2720 - acc: 0.5233 - val_loss: 1.4089 - val_acc: 0.5067\n",
      "Epoch 18/25\n",
      "896/897 [============================>.] - ETA: 9s - loss: 1.2376 - acc: 0.5407 \n",
      "Epoch 00018: val_loss improved from 1.40540 to 1.35520, saving model to Emotion.h5\n",
      "897/897 [==============================] - 8909s 10s/step - loss: 1.2378 - acc: 0.5407 - val_loss: 1.3552 - val_acc: 0.5388\n",
      "Epoch 19/25\n",
      "896/897 [============================>.] - ETA: 1s - loss: 1.2209 - acc: 0.5489\n",
      "Epoch 00019: val_loss did not improve from 1.35520\n",
      "897/897 [==============================] - 1761s 2s/step - loss: 1.2208 - acc: 0.5490 - val_loss: 1.3726 - val_acc: 0.5310\n",
      "Epoch 20/25\n",
      "896/897 [============================>.] - ETA: 1s - loss: 1.2233 - acc: 0.5489\n",
      "Epoch 00020: val_loss did not improve from 1.35520\n",
      "897/897 [==============================] - 1656s 2s/step - loss: 1.2238 - acc: 0.5488 - val_loss: 1.3679 - val_acc: 0.5396\n",
      "Epoch 21/25\n",
      "896/897 [============================>.] - ETA: 1s - loss: 1.2054 - acc: 0.5523\n",
      "Epoch 00021: val_loss did not improve from 1.35520\n",
      "\n",
      "Epoch 00021: ReduceLROnPlateau reducing learning rate to 4.0000001899898055e-05.\n",
      "897/897 [==============================] - 1338s 1s/step - loss: 1.2055 - acc: 0.5523 - val_loss: 1.3811 - val_acc: 0.5441\n",
      "Epoch 22/25\n",
      "896/897 [============================>.] - ETA: 1s - loss: 1.1947 - acc: 0.5606\n",
      "Epoch 00022: val_loss did not improve from 1.35520\n",
      "897/897 [==============================] - 1364s 2s/step - loss: 1.1945 - acc: 0.5606 - val_loss: 1.3663 - val_acc: 0.5419\n",
      "Epoch 23/25\n",
      "896/897 [============================>.] - ETA: 1s - loss: 1.1916 - acc: 0.5597\n",
      "Epoch 00023: val_loss did not improve from 1.35520\n",
      "897/897 [==============================] - 1431s 2s/step - loss: 1.1914 - acc: 0.5598 - val_loss: 1.3746 - val_acc: 0.5432\n",
      "Epoch 24/25\n",
      "896/897 [============================>.] - ETA: 1s - loss: 1.1897 - acc: 0.5566\n",
      "Epoch 00024: val_loss did not improve from 1.35520\n",
      "\n",
      "Epoch 00024: ReduceLROnPlateau reducing learning rate to 8.000000525498762e-06.\n",
      "897/897 [==============================] - 1408s 2s/step - loss: 1.1898 - acc: 0.5564 - val_loss: 1.3831 - val_acc: 0.5385\n",
      "Epoch 25/25\n",
      "896/897 [============================>.] - ETA: 1s - loss: 1.1919 - acc: 0.5570\n",
      "Epoch 00025: val_loss did not improve from 1.35520\n",
      "897/897 [==============================] - 1416s 2s/step - loss: 1.1916 - acc: 0.5571 - val_loss: 1.3714 - val_acc: 0.5396\n"
     ]
    }
   ],
   "source": [
    "history = model1.fit(train_data,\n",
    "                    steps_per_epoch=train_data.n//train_data.batch_size,\n",
    "                    epochs=25,\n",
    "                    callbacks=callbacks,\n",
    "                    validation_data=validation_data,\n",
    "                    validation_steps=validation_data.n//validation_data.batch_size)"
   ]
  },
  {
   "cell_type": "code",
   "execution_count": null,
   "metadata": {},
   "outputs": [],
   "source": []
  }
 ],
 "metadata": {
  "kernelspec": {
   "display_name": "Python 3",
   "language": "python",
   "name": "python3"
  },
  "language_info": {
   "codemirror_mode": {
    "name": "ipython",
    "version": 3
   },
   "file_extension": ".py",
   "mimetype": "text/x-python",
   "name": "python",
   "nbconvert_exporter": "python",
   "pygments_lexer": "ipython3",
   "version": "3.7.3"
  }
 },
 "nbformat": 4,
 "nbformat_minor": 2
}
